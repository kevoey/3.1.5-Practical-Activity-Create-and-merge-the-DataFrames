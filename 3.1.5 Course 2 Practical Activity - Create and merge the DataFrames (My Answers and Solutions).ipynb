{
 "cells": [
  {
   "cell_type": "markdown",
   "id": "1285c49d",
   "metadata": {},
   "source": [
    "# MY ANSWER"
   ]
  },
  {
   "cell_type": "code",
   "execution_count": null,
   "id": "72b907fe",
   "metadata": {},
   "outputs": [],
   "source": [
    "# Prompts\n",
    "\n",
    "#Launch Jupyter Notebook, create a new Python3 file, and if necessary, import the CSV files to your working directory \n",
    "#that were included in the Data folder of the ZIP you downloaded from 3.0 Focus of the week.\n",
    "#Import the necessary library.\n",
    "\n",
    "#Read the data sets into DataFrames. (Hint: Load the Excel data using pd.read_excel and the CSV data using pd.read_csv.)\n",
    "#Validate if the data is loaded correctly by printing the DataFrames. (Hint: Use the shape and head functions.)\n",
    "#Describe the data types of the individual columns using df.dtypes.\n",
    "\n",
    "#Combine the two DataFrames using each of the three methods:\n",
    "#    merge() based on a shared column name (ID). (Hint: df = df_1.merge(df_2, how='left', on='ID')\n",
    "#    concat() based on rows. (Hint: df = pd.concat([df_1, df_2], axis=0))\n",
    "\n",
    "#Compare the outputs in terms of shape (number of rows and columns), column names, data types, and any errors you encountered.\n",
    "#Save the Notebook to your Github repository by uploading and committing any changes.          "
   ]
  },
  {
   "cell_type": "code",
   "execution_count": null,
   "id": "492d1fad",
   "metadata": {},
   "outputs": [],
   "source": [
    "#Launch Jupyter Notebook, create a new Python3 file, and if necessary, import the CSV files to your working directory \n",
    "#that were included in the Data folder of the ZIP you downloaded from 3.0 Focus of the week.\n",
    "#Import the necessary library.\n",
    "\n",
    "import pandas as pd"
   ]
  },
  {
   "cell_type": "code",
   "execution_count": null,
   "id": "64500c7e",
   "metadata": {},
   "outputs": [],
   "source": [
    "#Read the data sets into DataFrames. (Hint: Load the Excel data using pd.read_excel and the CSV data using pd.read_csv.)\n",
    "#Validate if the data is loaded correctly by printing the DataFrames. (Hint: Use the shape and head functions.)\n",
    "#Describe the data types of the individual columns using df.dtypes.\n",
    "\n",
    "movies_merge = pd.read_excel('movies_merge.xlsx')\n",
    "ott_merge = pd.read_csv('ott_merge.csv')\n",
    "\n",
    "print(movies_merge.shape)\n",
    "print(movies_merge.head)\n",
    "print(movies_merge.dtypes)\n"
   ]
  },
  {
   "cell_type": "code",
   "execution_count": null,
   "id": "95512245",
   "metadata": {},
   "outputs": [],
   "source": [
    "print(ott_merge.shape)\n",
    "print(ott_merge.head)\n",
    "print(ott_merge.dtypes)\n"
   ]
  },
  {
   "cell_type": "code",
   "execution_count": null,
   "id": "318f6f97",
   "metadata": {},
   "outputs": [],
   "source": [
    "#Combine the two DataFrames using each of the three methods:\n",
    "#    merge() based on a shared column name (ID). (Hint: df = df_1.merge(df_2, how='left', on='ID')\n",
    "#    concat() based on rows. (Hint: df = pd.concat([df_1, df_2], axis=0))\n",
    "\n",
    "movies_ott_merge = pd.merge(movies_merge,ott_merge, how='left', on ='ID')\n",
    "print(movies_ott_merge)\n",
    "\n",
    "movies_ott_concat = pd.concat([movies_merge,ott_merge], axis=0)\n",
    "print(movies_ott_concat)"
   ]
  },
  {
   "cell_type": "code",
   "execution_count": null,
   "id": "206fef9b",
   "metadata": {},
   "outputs": [],
   "source": [
    "#Compare the outputs in terms of shape (number of rows and columns), column names, data types, \n",
    "#and any errors you encountered.\n",
    "#Save the Notebook to your Github repository by uploading and committing any changes.          \n",
    "\n",
    "print(movies_ott_merge.shape)\n",
    "print(list(movies_ott_merge))\n",
    "print(movies_ott_merge.dtypes)\n",
    "\n"
   ]
  },
  {
   "cell_type": "code",
   "execution_count": null,
   "id": "a9f1f1af",
   "metadata": {},
   "outputs": [],
   "source": [
    "print(movies_ott_concat.shape)\n",
    "print(list(movies_ott_concat))\n",
    "print(movies_ott_concat.dtypes)"
   ]
  },
  {
   "cell_type": "markdown",
   "id": "0dae15d0",
   "metadata": {},
   "source": [
    "# SOLUTION BY LSE"
   ]
  },
  {
   "cell_type": "code",
   "execution_count": null,
   "id": "7438b98a",
   "metadata": {},
   "outputs": [],
   "source": [
    "# Import necessary package.\n",
    "import pandas as pd\n",
    "\n",
    "# Load the Excel data using pd.read_excel.\n",
    "movies = pd.read_excel('movies_merge.xlsx')\n",
    "\n",
    "# View the column names.\n",
    "print(movies.columns)\n",
    "\n",
    "# Load the csv data using pd.read_csv.\n",
    "ott = pd.read_csv('ott_merge.csv')\n",
    "\n",
    "# View the column names.\n",
    "print(ott.columns)\n",
    "\n"
   ]
  },
  {
   "cell_type": "code",
   "execution_count": null,
   "id": "1db84c1b",
   "metadata": {},
   "outputs": [],
   "source": [
    "# Data imported correctly?\n",
    "print(movies.shape)\n",
    "movies.head()"
   ]
  },
  {
   "cell_type": "code",
   "execution_count": null,
   "id": "220d81a9",
   "metadata": {},
   "outputs": [],
   "source": [
    "# Data imported correctly?\n",
    "print(ott.shape)\n",
    "ott.head()"
   ]
  },
  {
   "cell_type": "code",
   "execution_count": null,
   "id": "7e36ed3b",
   "metadata": {},
   "outputs": [],
   "source": [
    "# Determine the data types.\n",
    "print(ott.dtypes)\n",
    "print(movies.dtypes)"
   ]
  },
  {
   "cell_type": "code",
   "execution_count": null,
   "id": "8aac765a",
   "metadata": {},
   "outputs": [],
   "source": [
    "# Merge the two DataFrames.\n",
    "df_mov_ott = pd.merge(movies, ott, how='left', on = 'ID')\n",
    "\n",
    "# View the new DataFrame.\n",
    "print(df_mov_ott.shape)\n",
    "df_mov_ott.head()"
   ]
  },
  {
   "cell_type": "code",
   "execution_count": null,
   "id": "a677b95d",
   "metadata": {},
   "outputs": [],
   "source": [
    "# Concatenate the two DataFrames.\n",
    "mov_ott_concat = pd.concat([movies, ott], axis=0)\n",
    "\n",
    "# View the new DataFrame.\n",
    "print(mov_ott_concat.shape)\n",
    "mov_ott_concat.head()"
   ]
  },
  {
   "cell_type": "code",
   "execution_count": null,
   "id": "2b8492ac",
   "metadata": {},
   "outputs": [],
   "source": []
  },
  {
   "cell_type": "code",
   "execution_count": null,
   "id": "1b9509d1",
   "metadata": {},
   "outputs": [],
   "source": []
  }
 ],
 "metadata": {
  "kernelspec": {
   "display_name": "Python 3",
   "language": "python",
   "name": "python3"
  },
  "language_info": {
   "codemirror_mode": {
    "name": "ipython",
    "version": 3
   },
   "file_extension": ".py",
   "mimetype": "text/x-python",
   "name": "python",
   "nbconvert_exporter": "python",
   "pygments_lexer": "ipython3",
   "version": "3.8.8"
  }
 },
 "nbformat": 4,
 "nbformat_minor": 5
}
